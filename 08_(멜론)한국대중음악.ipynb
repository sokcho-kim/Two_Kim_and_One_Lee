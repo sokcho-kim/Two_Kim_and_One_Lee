{
 "cells": [
  {
   "cell_type": "markdown",
   "metadata": {},
   "source": [
    "# Dataset 만들기"
   ]
  },
  {
   "cell_type": "markdown",
   "metadata": {},
   "source": [
    "## 1. 멜론_한국대중음악 수집"
   ]
  },
  {
   "cell_type": "markdown",
   "metadata": {},
   "source": [
    "### 1) 모듈 불러오기"
   ]
  },
  {
   "cell_type": "code",
   "execution_count": 23,
   "metadata": {},
   "outputs": [],
   "source": [
    "# 1. 크롬 드라이버 셀레니움 환경 설정하기\n",
    "## 크롬드라이버 설치 -> 크롬 정보 확인하여 버전에 맞는걸로 Download\n",
    "### https://googlechromelabs.github.io/chrome-for-testing/#stable\n",
    "\n",
    "# 2. 셀레니움 설치 완료 후 필요한 모듈 불러오기\n",
    "from selenium import webdriver                                          # webdriver : 크롬 가상 드라이버 실행\n",
    "from selenium.webdriver.common.by import By                             # By : 실제 페이지 내용을 긁어올 때 수단을 설정하는 모듈\n",
    "from selenium.webdriver.common.keys import Keys                         # Keys : 대신 키보드를 눌러주는 동작을 전달\n",
    "from selenium.webdriver.support.ui import WebDriverWait                 # WebDriverWait : 대기가 필요한 상황에서 사용하기\n",
    "from selenium.webdriver.support import expected_conditions as EC        # expected_conditions : 요소의 상태를 알아볼 때 사용\n",
    "from selenium.webdriver.chrome.options import Options                   # Options : 크롬 드라이버의 옵션을 정함. ex) 크롬창 크기 등\n",
    "from selenium.webdriver.chrome.service import Service                   # Service : Selenium에서 ChromeDriver의 경로를 설정하고 관리하는 역할\n",
    "from selenium.webdriver.common.action_chains import ActionChains        # ActionCahins : Selenium에서 입력 장치를 사용하여 복잡한 사용자 동작을 자동화\n",
    "from selenium.common.exceptions import NoSuchElementException           # NoSuchElementException : 지정한 조건에 맞는 요소를 찾을 수 없을 때 발생하는 예외 함수\n",
    "\n",
    "# 3. BeautifulSoup 활용 할 모듈 불러오기\n",
    "# from bs4 import BeautifulSoup                       \n",
    "import time                                     # 시간 관련 작업을 간편하게 처리하기 위해 사용\n",
    "# import math                                     # 수학적 계산을 위한 다양한 함수들을 제공\n",
    "import pandas as pd \n",
    "# import pickle                                   # 데이터를 저장할 때 사용"
   ]
  },
  {
   "cell_type": "markdown",
   "metadata": {},
   "source": [
    "### 2) Selenium으로 음원 chart 자료 크롤링"
   ]
  },
  {
   "cell_type": "code",
   "execution_count": 36,
   "metadata": {},
   "outputs": [],
   "source": [
    "# WebDriver 설정 (ChromeDriver 경로 지정)\n",
    "service = Service(r\"G:\\내 드라이브\\[Edu] wanted_poptenup\\chromedriver-win64\\chromedriver.exe\")  # ChromeDriver 경로\n",
    "options = webdriver.ChromeOptions()\n",
    "\n",
    "# 백그라운드 실행\n",
    "# options.add_argument('--headless')                      # 브라우저를 GUI 없이 실행\n",
    "# options.add_argument('--disable-gpu')                   # GPU를 비활성화\n",
    "# options.add_argument('--no-sandbox')                    # Chcome의 샌드박스 보안 기능을 비활성화 (일부 제한적인 환경에서 안정적으로 실행되도록 설정)\n",
    "\n",
    "# 브라우저 열기\n",
    "driver = webdriver.Chrome(service=service, options=options)\n",
    "wait = WebDriverWait(driver, 10)\n",
    "\n",
    "# 멜론뮤직 홈페이지로 이동\n",
    "url = \"https://www.melon.com/\"\n",
    "driver.maximize_window()\n",
    "# maximize_window()\t창을 최대화합니다.\n",
    "# minimize_window()\t창을 최소화합니다.\n",
    "# fullscreen_window()\t창을 전체 화면 모드로 설정합니다.\n",
    "# set_window_size(w, h)\t창의 크기를 설정합니다.\n",
    "# get_window_size()\t창의 크기를 가져옵니다.\n",
    "# set_window_position(x, y)\t창의 위치를 설정합니다.\n",
    "# get_window_position()\t창의 위치를 가져옵니다.\n",
    "# switch_to.window()\t특정 창으로 전환합니다.\n",
    "driver.get(url)                                             # 멜론 뮤직 차트로 진입\n",
    "time.sleep(2)                                               # 페이지 로드 대기\n",
    "\n",
    "# 멜론뮤직 '장르음악' 선택\n",
    "melon_ganre = WebDriverWait(driver, 10).until(EC.visibility_of_element_located((By.XPATH, '//*[@id=\"gnb_menu\"]/ul[1]/li[3]/a/span[2]')))\n",
    "melon_ganre.click()\n",
    "\n",
    "# 장르 선택하여 클릭\n",
    "# second_box = WebDriverWait(driver, 10).until(EC.visibility_of_element_located((By.XPATH,'')))\n",
    "# second_box.click()\n",
    "\n",
    "# '인기순' 클릭\n",
    "popular_box = WebDriverWait(driver, 10).until(EC.visibility_of_element_located((By.XPATH, '//*[@id=\"frm\"]/div/div/div/a[2]')))\n",
    "popular_box.click()"
   ]
  },
  {
   "cell_type": "markdown",
   "metadata": {},
   "source": [
    "### 3) 곡정보 담기"
   ]
  },
  {
   "cell_type": "code",
   "execution_count": null,
   "metadata": {},
   "outputs": [],
   "source": [
    "# 멜론 차트 list 만들기\n",
    "title = []\n",
    "artist = []\n",
    "lyrics = []\n",
    "likes = []\n",
    "\n",
    "# 기본 설정 값\n",
    "table_all = driver.find_element(By.XPATH, '//*[@id=\"songList\"]')\n",
    "list_all = driver.find_elements(By.CSS_SELECTOR, \"tbody>tr\")\n",
    "\n",
    "# 수집 루틴\n",
    "for idx in range(0, len(list_all)):\n",
    "    time.sleep(1)\n",
    "    try :\n",
    "        # 스크롤 동적으로 이동 : 인덱스 기반 스크롤\n",
    "        driver.execute_script(f\"window.scrollTo(0, {idx * 85});\")\n",
    "\n",
    "        # 특정 요소가 로드될 때까지 대기\n",
    "        WebDriverWait(driver, 10).until(EC.visibility_of_element_located((By.CSS_SELECTOR, \"tbody>tr\")))\n",
    "        \n",
    "        # 위치 찾아서 진입\n",
    "        table_all = driver.find_element(By.XPATH, '//*[@id=\"songList\"]')\n",
    "        list_all = driver.find_elements(By.CSS_SELECTOR, \"tbody>tr\")\n",
    "\n",
    "        # 현재 곡 클릭\n",
    "        list_click = list_all[idx].find_elements(By.CSS_SELECTOR, \"td\")\n",
    "        list_click[3].click()\n",
    "        song_click = WebDriverWait(driver, 10).until(EC.visibility_of_element_located((By.CSS_SELECTOR, f\"#frm > div > table > tbody > tr:nth-child({int(idx+1)}) > td:nth-child(4) > div > a:not(.section_hitsong)\")))\n",
    "        song_click.click()\n",
    "\n",
    "        # 제목 추가\n",
    "        title_text = WebDriverWait(driver, 10).until(EC.visibility_of_element_located((By.CSS_SELECTOR, \".song_name\"))).text\n",
    "        title.append(title_text)\n",
    "\n",
    "        # 아티스트 이름 추가\n",
    "        artist_name = WebDriverWait(driver, 10).until(EC.visibility_of_element_located((By.CSS_SELECTOR, \".artist_name\")))\n",
    "        # artist_row = artist_info.find_element(By.CSS_SELECTOR, \"tbody>tr>td\")\n",
    "        # artist_name = artist_row.find_element(By.CSS_SELECTOR, \"a\").text\n",
    "        artist.append(artist_name)\n",
    "\n",
    "        # 가사 텍스트 추가\n",
    "        lyrics_text = WebDriverWait(driver, 10).until(EC.visibility_of_element_located((By.CSS_SELECTOR, \".lyric\"))).text\n",
    "        lyrics.append(lyrics_text)\n",
    "\n",
    "        # 좋아요 개수 추가\n",
    "        likes_text = WebDriverWait(driver, 10).until(EC.visibility_of_element_located((By.CSS_SELECTOR, \".cnt\"))).text\n",
    "        likes.append(likes_text)\n",
    "        \n",
    "        # 중간 확인\n",
    "        if list(range(1, 5000+1, 100) in len(title) :\n",
    "                print(len(title))\n",
    "        else :\n",
    "            continue\n",
    "\n",
    "        # 뒤로가기\n",
    "        driver.back()\n",
    "        WebDriverWait(driver, 10).until(EC.visibility_of_element_located((By.XPATH, '//*[@id=\"songList\"]')))\n",
    "    except :\n",
    "        print(f\"오류 발생\", {idx})        \n",
    "        break"
   ]
  },
  {
   "cell_type": "markdown",
   "metadata": {},
   "source": [
    "### 4) 수집량 확인"
   ]
  },
  {
   "cell_type": "code",
   "execution_count": 39,
   "metadata": {},
   "outputs": [
    {
     "name": "stdout",
     "output_type": "stream",
     "text": [
      "50\n",
      "50\n",
      "50\n",
      "50\n"
     ]
    }
   ],
   "source": [
    "print(len(title))\n",
    "print(len(artist))\n",
    "print(len(lyrics))\n",
    "print(len(likes))"
   ]
  },
  {
   "cell_type": "markdown",
   "metadata": {},
   "source": [
    "## 2. 파일 내보내기"
   ]
  },
  {
   "cell_type": "markdown",
   "metadata": {},
   "source": [
    "### 1) 수집 데이터 프레임화"
   ]
  },
  {
   "cell_type": "code",
   "execution_count": 40,
   "metadata": {},
   "outputs": [],
   "source": [
    "# 데이터 취합하기\n",
    "data = pd.DataFrame(\n",
    "    {\n",
    "        \"제목\" : title,\n",
    "        \"가수\" : artist,\n",
    "        \"가사\" : lyrics,\n",
    "        \"좋아요\" : likes\n",
    "    }\n",
    ")"
   ]
  },
  {
   "cell_type": "code",
   "execution_count": 41,
   "metadata": {},
   "outputs": [
    {
     "data": {
      "text/html": [
       "<div>\n",
       "<style scoped>\n",
       "    .dataframe tbody tr th:only-of-type {\n",
       "        vertical-align: middle;\n",
       "    }\n",
       "\n",
       "    .dataframe tbody tr th {\n",
       "        vertical-align: top;\n",
       "    }\n",
       "\n",
       "    .dataframe thead th {\n",
       "        text-align: right;\n",
       "    }\n",
       "</style>\n",
       "<table border=\"1\" class=\"dataframe\">\n",
       "  <thead>\n",
       "    <tr style=\"text-align: right;\">\n",
       "      <th></th>\n",
       "      <th>제목</th>\n",
       "      <th>가수</th>\n",
       "      <th>가사</th>\n",
       "      <th>좋아요</th>\n",
       "    </tr>\n",
       "  </thead>\n",
       "  <tbody>\n",
       "    <tr>\n",
       "      <th>0</th>\n",
       "      <td>나는 반딧불</td>\n",
       "      <td>&lt;selenium.webdriver.remote.webelement.WebEleme...</td>\n",
       "      <td>나는 내가 빛나는 별인 줄 알았어요\\n한 번도 의심한 적 없었죠\\n몰랐어요 난 내가...</td>\n",
       "      <td>84,120</td>\n",
       "    </tr>\n",
       "    <tr>\n",
       "      <th>1</th>\n",
       "      <td>내게 사랑이 뭐냐고 물어본다면</td>\n",
       "      <td>&lt;selenium.webdriver.remote.webelement.WebEleme...</td>\n",
       "      <td>뜨겁게 사랑했던\\n계절을 지나\\n처음과는 조금은 달라진\\n우리 모습을\\n걱정 하진 ...</td>\n",
       "      <td>49,190</td>\n",
       "    </tr>\n",
       "    <tr>\n",
       "      <th>2</th>\n",
       "      <td>소나기</td>\n",
       "      <td>&lt;selenium.webdriver.remote.webelement.WebEleme...</td>\n",
       "      <td>그치지 않기를 바랬죠\\n처음 그대 내게로 오던 그날에\\n잠시 동안 적시는\\n그런 비...</td>\n",
       "      <td>169,310</td>\n",
       "    </tr>\n",
       "    <tr>\n",
       "      <th>3</th>\n",
       "      <td>천상연</td>\n",
       "      <td>&lt;selenium.webdriver.remote.webelement.WebEleme...</td>\n",
       "      <td>아니길 바랬었어\\n꿈이길 기도했지\\n너 없는 가슴으로 살아가야 하는 건\\n내게는 너...</td>\n",
       "      <td>114,604</td>\n",
       "    </tr>\n",
       "    <tr>\n",
       "      <th>4</th>\n",
       "      <td>슬픈 초대장</td>\n",
       "      <td>&lt;selenium.webdriver.remote.webelement.WebEleme...</td>\n",
       "      <td>내 야윈 손위로 온 초대장 위에\\n널 데려간다는 그와 네 이름\\n오래전 헤어지던 날...</td>\n",
       "      <td>60,911</td>\n",
       "    </tr>\n",
       "    <tr>\n",
       "      <th>5</th>\n",
       "      <td>어떻게 이별까지 사랑하겠어, 널 사랑하는 거지</td>\n",
       "      <td>&lt;selenium.webdriver.remote.webelement.WebEleme...</td>\n",
       "      <td>일부러 몇 발자국 물러나\\n내가 없이 혼자 걷는 널 바라본다\\n옆자리 허전한 너의 ...</td>\n",
       "      <td>477,078</td>\n",
       "    </tr>\n",
       "    <tr>\n",
       "      <th>6</th>\n",
       "      <td>Love wins all</td>\n",
       "      <td>&lt;selenium.webdriver.remote.webelement.WebEleme...</td>\n",
       "      <td>Dearest, Darling, My universe\\n날 데려가 줄래?\\n나의 이...</td>\n",
       "      <td>200,410</td>\n",
       "    </tr>\n",
       "    <tr>\n",
       "      <th>7</th>\n",
       "      <td>첫 눈</td>\n",
       "      <td>&lt;selenium.webdriver.remote.webelement.WebEleme...</td>\n",
       "      <td>첫눈 오는 이런 오후에\\n너에게 전화를 걸 수만\\n있다면 기쁠텐데\\n벌써 일년이 지...</td>\n",
       "      <td>307,734</td>\n",
       "    </tr>\n",
       "    <tr>\n",
       "      <th>8</th>\n",
       "      <td>너의 모든 순간</td>\n",
       "      <td>&lt;selenium.webdriver.remote.webelement.WebEleme...</td>\n",
       "      <td>이윽고 내가 한눈에\\n너를 알아봤을 때\\n모든 건 분명 달라지고 있었어\\n내 세상은...</td>\n",
       "      <td>304,369</td>\n",
       "    </tr>\n",
       "    <tr>\n",
       "      <th>9</th>\n",
       "      <td>그대만 있다면 (여름날 우리 X 너드커넥션 (Nerd Connection))</td>\n",
       "      <td>&lt;selenium.webdriver.remote.webelement.WebEleme...</td>\n",
       "      <td>날 사랑해서 떠난다며\\n눈물짓던 그대의 말을 믿을 수 없죠\\n하지만 나의 전부였던\\...</td>\n",
       "      <td>138,158</td>\n",
       "    </tr>\n",
       "  </tbody>\n",
       "</table>\n",
       "</div>"
      ],
      "text/plain": [
       "                                           제목  \\\n",
       "0                                      나는 반딧불   \n",
       "1                            내게 사랑이 뭐냐고 물어본다면   \n",
       "2                                         소나기   \n",
       "3                                         천상연   \n",
       "4                                      슬픈 초대장   \n",
       "5                   어떻게 이별까지 사랑하겠어, 널 사랑하는 거지   \n",
       "6                               Love wins all   \n",
       "7                                         첫 눈   \n",
       "8                                    너의 모든 순간   \n",
       "9  그대만 있다면 (여름날 우리 X 너드커넥션 (Nerd Connection))   \n",
       "\n",
       "                                                  가수  \\\n",
       "0  <selenium.webdriver.remote.webelement.WebEleme...   \n",
       "1  <selenium.webdriver.remote.webelement.WebEleme...   \n",
       "2  <selenium.webdriver.remote.webelement.WebEleme...   \n",
       "3  <selenium.webdriver.remote.webelement.WebEleme...   \n",
       "4  <selenium.webdriver.remote.webelement.WebEleme...   \n",
       "5  <selenium.webdriver.remote.webelement.WebEleme...   \n",
       "6  <selenium.webdriver.remote.webelement.WebEleme...   \n",
       "7  <selenium.webdriver.remote.webelement.WebEleme...   \n",
       "8  <selenium.webdriver.remote.webelement.WebEleme...   \n",
       "9  <selenium.webdriver.remote.webelement.WebEleme...   \n",
       "\n",
       "                                                  가사      좋아요  \n",
       "0  나는 내가 빛나는 별인 줄 알았어요\\n한 번도 의심한 적 없었죠\\n몰랐어요 난 내가...   84,120  \n",
       "1  뜨겁게 사랑했던\\n계절을 지나\\n처음과는 조금은 달라진\\n우리 모습을\\n걱정 하진 ...   49,190  \n",
       "2  그치지 않기를 바랬죠\\n처음 그대 내게로 오던 그날에\\n잠시 동안 적시는\\n그런 비...  169,310  \n",
       "3  아니길 바랬었어\\n꿈이길 기도했지\\n너 없는 가슴으로 살아가야 하는 건\\n내게는 너...  114,604  \n",
       "4  내 야윈 손위로 온 초대장 위에\\n널 데려간다는 그와 네 이름\\n오래전 헤어지던 날...   60,911  \n",
       "5  일부러 몇 발자국 물러나\\n내가 없이 혼자 걷는 널 바라본다\\n옆자리 허전한 너의 ...  477,078  \n",
       "6  Dearest, Darling, My universe\\n날 데려가 줄래?\\n나의 이...  200,410  \n",
       "7  첫눈 오는 이런 오후에\\n너에게 전화를 걸 수만\\n있다면 기쁠텐데\\n벌써 일년이 지...  307,734  \n",
       "8  이윽고 내가 한눈에\\n너를 알아봤을 때\\n모든 건 분명 달라지고 있었어\\n내 세상은...  304,369  \n",
       "9  날 사랑해서 떠난다며\\n눈물짓던 그대의 말을 믿을 수 없죠\\n하지만 나의 전부였던\\...  138,158  "
      ]
     },
     "execution_count": 41,
     "metadata": {},
     "output_type": "execute_result"
    }
   ],
   "source": [
    "# 데이터 확인하기\n",
    "data.head(10)"
   ]
  },
  {
   "cell_type": "markdown",
   "metadata": {},
   "source": [
    "### 2) 데이터 내보내기"
   ]
  },
  {
   "cell_type": "code",
   "execution_count": 43,
   "metadata": {},
   "outputs": [],
   "source": [
    "# 데이터 csv파일로 내보내기\n",
    "data.to_csv(r\"G:\\내 드라이브\\[Edu] wanted_poptenup\\01_프로젝트 모음\\25.01_프로젝트#2_'BE MY MUSE' 작사 공모전\\(Data)\\melon_한국대중음악_발라드(TOP50).csv\", index=True, encoding='utf-8')"
   ]
  }
 ],
 "metadata": {
  "kernelspec": {
   "display_name": "Python 3",
   "language": "python",
   "name": "python3"
  },
  "language_info": {
   "codemirror_mode": {
    "name": "ipython",
    "version": 3
   },
   "file_extension": ".py",
   "mimetype": "text/x-python",
   "name": "python",
   "nbconvert_exporter": "python",
   "pygments_lexer": "ipython3",
   "version": "3.11.9"
  }
 },
 "nbformat": 4,
 "nbformat_minor": 2
}

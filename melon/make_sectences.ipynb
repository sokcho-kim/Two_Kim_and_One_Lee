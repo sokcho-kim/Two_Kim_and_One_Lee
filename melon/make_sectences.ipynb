{
 "cells": [
  {
   "cell_type": "code",
   "execution_count": null,
   "metadata": {},
   "outputs": [],
   "source": [
    "# https://github.com/jsvine/markovify"
   ]
  },
  {
   "cell_type": "code",
   "execution_count": 1,
   "metadata": {},
   "outputs": [],
   "source": [
    "import pandas as pd \n",
    "# C:\\Two_Kim_and_One_Lee\\01_data_모음\\melon.csv\n",
    "songs = pd.read_csv(\"../01_data_모음/melon.csv\")"
   ]
  },
  {
   "cell_type": "code",
   "execution_count": 3,
   "metadata": {},
   "outputs": [],
   "source": [
    "with open('../01_data_모음/melon5000test.txt', 'r', encoding='cp949', errors='ignore') as f:\n",
    "    content = f.read()"
   ]
  },
  {
   "cell_type": "code",
   "execution_count": null,
   "metadata": {},
   "outputs": [
    {
     "name": "stdout",
     "output_type": "stream",
     "text": [
      "Do you love for?\n",
      "Do you love for?\n",
      "Do you love for?\n",
      "Do you love for?\n"
     ]
    }
   ],
   "source": [
    "import markovify\n",
    "\n",
    "lyrics = content\n",
    "\n",
    "# Markovify 모델 생성\n",
    "text_model = markovify.Text(lyrics)\n",
    "\n",
    "# 랜덤 문장 생성\n",
    "generated_lyrics = [\n",
    "    sentence for sentence in\n",
    "    (text_model.make_sentence(tries=100, max_overlapratio=0.5) for _ in range(4))\n",
    "    if sentence is not None\n",
    "]\n",
    "\n",
    "# 결과 출력\n",
    "if generated_lyrics:\n",
    "    print(\"\\n\".join(generated_lyrics))\n",
    "else:\n",
    "    print(\"문장을 생성하지 못했습니다.\")"
   ]
  },
  {
   "cell_type": "code",
   "execution_count": null,
   "metadata": {},
   "outputs": [],
   "source": [
    "class RnnlmGen(Rnnlm):\n",
    "    def generate(self, start_id, skip_ids=None, sample_size=100):\n",
    "        '''\n",
    "        start_id 최초로 주는 단어의 ID\n",
    "        skip_ids 단어 ID의 리스트(ex. [12, 20]) 리스트에 속하는 ID는 샘플링X\n",
    "        sample_size = 샘플링 단어 수\n",
    "        '''\n",
    "        word_ids = [start_id]\n",
    "        \n",
    "        x = start_id\n",
    "        while len(word_ids) < sample_size:\n",
    "            # predict()는 미니배치 처리를 하므로 입력 x는 2차원 배열이여야 한다.\n",
    "            x = np.array(x).reshape(1, 1)\n",
    "            score = self.predict(x)\n",
    "            p = softmax(score.flatten())\n",
    "            \n",
    "            sampled = np.random.choice(len(p), size=1, p=p)\n",
    "            if (skip_ids is None) or (sampled not in skip_ids):\n",
    "                x = sampled\n",
    "                word_ids.append(int(x))\n",
    "                \n",
    "        return word_ids"
   ]
  }
 ],
 "metadata": {
  "kernelspec": {
   "display_name": ".env311",
   "language": "python",
   "name": "python3"
  },
  "language_info": {
   "codemirror_mode": {
    "name": "ipython",
    "version": 3
   },
   "file_extension": ".py",
   "mimetype": "text/x-python",
   "name": "python",
   "nbconvert_exporter": "python",
   "pygments_lexer": "ipython3",
   "version": "3.11.9"
  }
 },
 "nbformat": 4,
 "nbformat_minor": 2
}

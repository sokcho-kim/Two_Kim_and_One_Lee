{
 "cells": [
  {
   "cell_type": "markdown",
   "metadata": {},
   "source": [
    "# Dataset 만들기"
   ]
  },
  {
   "cell_type": "markdown",
   "metadata": {},
   "source": [
    "## 1. 멜론_한국대중음악 수집"
   ]
  },
  {
   "cell_type": "markdown",
   "metadata": {},
   "source": [
    "### 1) 모듈 불러오기"
   ]
  },
  {
   "cell_type": "code",
   "execution_count": 12,
   "metadata": {},
   "outputs": [],
   "source": [
    "# 1. 크롬 드라이버 셀레니움 환경 설정하기\n",
    "## 크롬드라이버 설치 -> 크롬 정보 확인하여 버전에 맞는걸로 Download\n",
    "### https://googlechromelabs.github.io/chrome-for-testing/#stable\n",
    "\n",
    "# 2. 셀레니움 설치 완료 후 필요한 모듈 불러오기\n",
    "from selenium import webdriver                                          # webdriver : 크롬 가상 드라이버 실행\n",
    "from selenium.webdriver.common.by import By                             # By : 실제 페이지 내용을 긁어올 때 수단을 설정하는 모듈\n",
    "from selenium.webdriver.common.keys import Keys                         # Keys : 대신 키보드를 눌러주는 동작을 전달\n",
    "from selenium.webdriver.support.ui import WebDriverWait                 # WebDriverWait : 대기가 필요한 상황에서 사용하기\n",
    "from selenium.webdriver.support import expected_conditions as EC        # expected_conditions : 요소의 상태를 알아볼 때 사용\n",
    "from selenium.webdriver.chrome.options import Options                   # Options : 크롬 드라이버의 옵션을 정함. ex) 크롬창 크기 등\n",
    "from selenium.webdriver.chrome.service import Service                   # Service : Selenium에서 ChromeDriver의 경로를 설정하고 관리하는 역할\n",
    "from selenium.webdriver.common.action_chains import ActionChains        # ActionCahins : Selenium에서 입력 장치를 사용하여 복잡한 사용자 동작을 자동화\n",
    "from selenium.common.exceptions import NoSuchElementException           # NoSuchElementException : 지정한 조건에 맞는 요소를 찾을 수 없을 때 발생하는 예외 함수\n",
    "\n",
    "# 3. BeautifulSoup 활용 할 모듈 불러오기\n",
    "# from bs4 import BeautifulSoup                       \n",
    "import time                                     # 시간 관련 작업을 간편하게 처리하기 위해 사용\n",
    "# import math                                     # 수학적 계산을 위한 다양한 함수들을 제공\n",
    "import pandas as pd \n",
    "# import pickle                                   # 데이터를 저장할 때 사용\n",
    "\n",
    "from tqdm import tqdm                           # 진행률 보여주는 라이브러리 "
   ]
  },
  {
   "cell_type": "markdown",
   "metadata": {},
   "source": [
    "### 2) Selenium으로 음원 chart 자료 크롤링"
   ]
  },
  {
   "cell_type": "code",
   "execution_count": 13,
   "metadata": {},
   "outputs": [],
   "source": [
    "# WebDriver 설정 (ChromeDriver 경로 지정)\n",
    "# service = Service(r\"G:\\내 드라이브\\[Edu] wanted_poptenup\\chromedriver-win64\\chromedriver.exe\")  # ChromeDriver 경로\n",
    "service = Service(r\"C:\\Two_Kim_and_One_Lee\\chromedriver-win64\\chromedriver.exe\")  # ChromeDriver 경로 (지민)\n",
    "options = webdriver.ChromeOptions()\n",
    "\n",
    "# 백그라운드 실행\n",
    "# options.add_argument('--headless')                      # 브라우저를 GUI 없이 실행\n",
    "# options.add_argument('--disable-gpu')                   # GPU를 비활성화\n",
    "# options.add_argument('--no-sandbox')                    # Chcome의 샌드박스 보안 기능을 비활성화 (일부 제한적인 환경에서 안정적으로 실행되도록 설정)\n",
    "\n",
    "# 브라우저 열기\n",
    "driver = webdriver.Chrome(service=service, options=options)\n",
    "wait = WebDriverWait(driver, 10)\n",
    "\n",
    "# 멜론뮤직 홈페이지로 이동\n",
    "url = \"https://www.melon.com/\"\n",
    "driver.maximize_window()\n",
    "# maximize_window()\t창을 최대화합니다.\n",
    "# minimize_window()\t창을 최소화합니다.\n",
    "# fullscreen_window()\t창을 전체 화면 모드로 설정합니다.\n",
    "# set_window_size(w, h)\t창의 크기를 설정합니다.\n",
    "# get_window_size()\t창의 크기를 가져옵니다.\n",
    "# set_window_position(x, y)\t창의 위치를 설정합니다.\n",
    "# get_window_position()\t창의 위치를 가져옵니다.\n",
    "# switch_to.window()\t특정 창으로 전환합니다.\n",
    "driver.get(url)                                             # 멜론 뮤직 차트로 진입\n",
    "time.sleep(2)                                               # 페이지 로드 대기\n",
    "\n",
    "# 멜론뮤직 '장르음악' 선택\n",
    "melon_ganre = WebDriverWait(driver, 10).until(EC.visibility_of_element_located((By.XPATH, '//*[@id=\"gnb_menu\"]/ul[1]/li[3]/a/span[2]')))\n",
    "melon_ganre.click()\n",
    "\n",
    "# 장르 선택하여 클릭\n",
    "# second_box = WebDriverWait(driver, 10).until(EC.visibility_of_element_located((By.XPATH,'')))\n",
    "# second_box.click()\n",
    "\n",
    "# '인기순' 클릭\n",
    "popular_box = WebDriverWait(driver, 10).until(EC.visibility_of_element_located((By.XPATH, '//*[@id=\"frm\"]/div/div/div/a[2]')))\n",
    "popular_box.click()"
   ]
  },
  {
   "cell_type": "code",
   "execution_count": 14,
   "metadata": {},
   "outputs": [],
   "source": [
    "def collect_lyrics_in_list () : \n",
    "    songs = []\n",
    "    columns = ['title', 'artist', 'lyrics', 'likes']\n",
    "    song_data = pd.DataFrame(columns=columns)\n",
    "\n",
    "    # 멜론 차트 list 만들기\n",
    "    title = []\n",
    "    artist = []\n",
    "    lyrics = []\n",
    "    likes = []\n",
    "\n",
    "    # 기본 설정 값\n",
    "    table_all = driver.find_element(By.XPATH, '//*[@id=\"songList\"]')\n",
    "    list_all = driver.find_elements(By.CSS_SELECTOR, \"tbody>tr\")\n",
    "\n",
    "    # 수집 루틴\n",
    "    # tqdm 라이브러리로 진행 상황 바 표시\n",
    "    for idx, meta in tqdm(enumerate(list_all), total=len(list_all), desc=\"Processing songs\"):\n",
    "        time.sleep(1)\n",
    "        try :\n",
    "            # 스크롤 동적으로 이동 : 인덱스 기반 스크롤\n",
    "            driver.execute_script(f\"window.scrollTo(0, {idx * 85});\")\n",
    "\n",
    "            # 특정 요소가 로드될 때까지 대기\n",
    "            WebDriverWait(driver, 10).until(EC.visibility_of_element_located((By.CSS_SELECTOR, \"tbody>tr\")))\n",
    "            \n",
    "            # 위치 찾아서 진입\n",
    "            table_all = driver.find_element(By.XPATH, '//*[@id=\"songList\"]')\n",
    "            list_all = driver.find_elements(By.CSS_SELECTOR, \"tbody>tr\")\n",
    "\n",
    "            # 현재 곡 클릭\n",
    "            list_click = list_all[idx].find_elements(By.CSS_SELECTOR, \"td\")\n",
    "            list_click[3].click()\n",
    "            song_click = WebDriverWait(driver, 10).until(EC.visibility_of_element_located((By.CSS_SELECTOR, f\"#frm > div > table > tbody > tr:nth-child({int(idx+1)}) > td:nth-child(4) > div > a:not(.section_hitsong)\")))\n",
    "            song_click.click()\n",
    "\n",
    "            # 제목 추가\n",
    "            title_text = WebDriverWait(driver, 10).until(EC.visibility_of_element_located((By.CSS_SELECTOR, \".song_name\"))).text\n",
    "            title.append(title_text)\n",
    "\n",
    "            # 아티스트 이름 추가\n",
    "            artist_name = WebDriverWait(driver, 10).until(EC.visibility_of_element_located((By.CSS_SELECTOR, \".artist_name >span\"))).text\n",
    "            # //*[@id=\"downloadfrm\"]/div/div/div[2]/div[1]/div[2]/a/span[1]\n",
    "            # artist_row = artist_info.find_element(By.CSS_SELECTOR, \"tbody>tr>td\")\n",
    "            # artist_name = artist_row.find_element(By.CSS_SELECTOR, \"a\").text\n",
    "            artist.append(artist_name)\n",
    "\n",
    "            lyrics_element = WebDriverWait(driver, 10).until(EC.visibility_of_element_located((By.CSS_SELECTOR, \".lyric\")))\n",
    "            if lyrics_element:\n",
    "                # 요소가 존재하는 경우\n",
    "                lyrics_text = lyrics_element.text  # 첫 번째 요소 선택\n",
    "            else:\n",
    "                # 요소가 존재하지 않는 경우\n",
    "                lyrics_text = \"\"\n",
    "                print(lyrics_element)\n",
    "          \n",
    "            # 요소가 존재하는 경우에만 텍스트를 가져옴\n",
    "            # lyrics_text = lyrics_element.text if lyrics_element else \"\"\n",
    "            # lyrics.append(lyrics_text)\n",
    "\n",
    "            # 좋아요 개수 추가\n",
    "            likes_text = WebDriverWait(driver, 10).until(EC.visibility_of_element_located((By.CSS_SELECTOR, \".cnt\"))).text\n",
    "            likes.append(likes_text)\n",
    "\n",
    "            # 뒤로가기\n",
    "            driver.back()\n",
    "            WebDriverWait(driver, 10).until(EC.visibility_of_element_located((By.XPATH, '//*[@id=\"songList\"]')))\n",
    "            \n",
    "        except :\n",
    "            print(f\"오류 발생\", {idx})        \n",
    "            break\n",
    "        \n",
    "        # 곡 정보 저장\n",
    "        song_data = pd.DataFrame(\n",
    "            {\n",
    "                \"title\": title,\n",
    "                \"artist\": artist,\n",
    "                \"lyrics\": lyrics,\n",
    "                \"likes\": likes\n",
    "            }\n",
    "        )\n",
    "\n",
    "    return song_data"
   ]
  },
  {
   "cell_type": "code",
   "execution_count": 15,
   "metadata": {},
   "outputs": [
    {
     "name": "stderr",
     "output_type": "stream",
     "text": [
      "Processing songs:   0%|          | 0/50 [00:00<?, ?it/s]"
     ]
    },
    {
     "name": "stderr",
     "output_type": "stream",
     "text": [
      "Processing songs:   0%|          | 0/50 [00:02<?, ?it/s]\n"
     ]
    },
    {
     "ename": "ValueError",
     "evalue": "All arrays must be of the same length",
     "output_type": "error",
     "traceback": [
      "\u001b[1;31m---------------------------------------------------------------------------\u001b[0m",
      "\u001b[1;31mValueError\u001b[0m                                Traceback (most recent call last)",
      "Cell \u001b[1;32mIn[15], line 1\u001b[0m\n\u001b[1;32m----> 1\u001b[0m \u001b[43mcollect_lyrics_in_list\u001b[49m\u001b[43m(\u001b[49m\u001b[43m)\u001b[49m\n",
      "Cell \u001b[1;32mIn[14], line 74\u001b[0m, in \u001b[0;36mcollect_lyrics_in_list\u001b[1;34m()\u001b[0m\n\u001b[0;32m     71\u001b[0m         \u001b[38;5;28;01mbreak\u001b[39;00m\n\u001b[0;32m     73\u001b[0m     \u001b[38;5;66;03m# 곡 정보 저장\u001b[39;00m\n\u001b[1;32m---> 74\u001b[0m     song_data \u001b[38;5;241m=\u001b[39m \u001b[43mpd\u001b[49m\u001b[38;5;241;43m.\u001b[39;49m\u001b[43mDataFrame\u001b[49m\u001b[43m(\u001b[49m\n\u001b[0;32m     75\u001b[0m \u001b[43m        \u001b[49m\u001b[43m{\u001b[49m\n\u001b[0;32m     76\u001b[0m \u001b[43m            \u001b[49m\u001b[38;5;124;43m\"\u001b[39;49m\u001b[38;5;124;43mtitle\u001b[39;49m\u001b[38;5;124;43m\"\u001b[39;49m\u001b[43m:\u001b[49m\u001b[43m \u001b[49m\u001b[43mtitle\u001b[49m\u001b[43m,\u001b[49m\n\u001b[0;32m     77\u001b[0m \u001b[43m            \u001b[49m\u001b[38;5;124;43m\"\u001b[39;49m\u001b[38;5;124;43martist\u001b[39;49m\u001b[38;5;124;43m\"\u001b[39;49m\u001b[43m:\u001b[49m\u001b[43m \u001b[49m\u001b[43martist\u001b[49m\u001b[43m,\u001b[49m\n\u001b[0;32m     78\u001b[0m \u001b[43m            \u001b[49m\u001b[38;5;124;43m\"\u001b[39;49m\u001b[38;5;124;43mlyrics\u001b[39;49m\u001b[38;5;124;43m\"\u001b[39;49m\u001b[43m:\u001b[49m\u001b[43m \u001b[49m\u001b[43mlyrics\u001b[49m\u001b[43m,\u001b[49m\n\u001b[0;32m     79\u001b[0m \u001b[43m            \u001b[49m\u001b[38;5;124;43m\"\u001b[39;49m\u001b[38;5;124;43mlikes\u001b[39;49m\u001b[38;5;124;43m\"\u001b[39;49m\u001b[43m:\u001b[49m\u001b[43m \u001b[49m\u001b[43mlikes\u001b[49m\n\u001b[0;32m     80\u001b[0m \u001b[43m        \u001b[49m\u001b[43m}\u001b[49m\n\u001b[0;32m     81\u001b[0m \u001b[43m    \u001b[49m\u001b[43m)\u001b[49m\n\u001b[0;32m     83\u001b[0m \u001b[38;5;28;01mreturn\u001b[39;00m song_data\n",
      "File \u001b[1;32mc:\\Two_Kim_and_One_Lee\\.env311\\Lib\\site-packages\\pandas\\core\\frame.py:778\u001b[0m, in \u001b[0;36mDataFrame.__init__\u001b[1;34m(self, data, index, columns, dtype, copy)\u001b[0m\n\u001b[0;32m    772\u001b[0m     mgr \u001b[38;5;241m=\u001b[39m \u001b[38;5;28mself\u001b[39m\u001b[38;5;241m.\u001b[39m_init_mgr(\n\u001b[0;32m    773\u001b[0m         data, axes\u001b[38;5;241m=\u001b[39m{\u001b[38;5;124m\"\u001b[39m\u001b[38;5;124mindex\u001b[39m\u001b[38;5;124m\"\u001b[39m: index, \u001b[38;5;124m\"\u001b[39m\u001b[38;5;124mcolumns\u001b[39m\u001b[38;5;124m\"\u001b[39m: columns}, dtype\u001b[38;5;241m=\u001b[39mdtype, copy\u001b[38;5;241m=\u001b[39mcopy\n\u001b[0;32m    774\u001b[0m     )\n\u001b[0;32m    776\u001b[0m \u001b[38;5;28;01melif\u001b[39;00m \u001b[38;5;28misinstance\u001b[39m(data, \u001b[38;5;28mdict\u001b[39m):\n\u001b[0;32m    777\u001b[0m     \u001b[38;5;66;03m# GH#38939 de facto copy defaults to False only in non-dict cases\u001b[39;00m\n\u001b[1;32m--> 778\u001b[0m     mgr \u001b[38;5;241m=\u001b[39m \u001b[43mdict_to_mgr\u001b[49m\u001b[43m(\u001b[49m\u001b[43mdata\u001b[49m\u001b[43m,\u001b[49m\u001b[43m \u001b[49m\u001b[43mindex\u001b[49m\u001b[43m,\u001b[49m\u001b[43m \u001b[49m\u001b[43mcolumns\u001b[49m\u001b[43m,\u001b[49m\u001b[43m \u001b[49m\u001b[43mdtype\u001b[49m\u001b[38;5;241;43m=\u001b[39;49m\u001b[43mdtype\u001b[49m\u001b[43m,\u001b[49m\u001b[43m \u001b[49m\u001b[43mcopy\u001b[49m\u001b[38;5;241;43m=\u001b[39;49m\u001b[43mcopy\u001b[49m\u001b[43m,\u001b[49m\u001b[43m \u001b[49m\u001b[43mtyp\u001b[49m\u001b[38;5;241;43m=\u001b[39;49m\u001b[43mmanager\u001b[49m\u001b[43m)\u001b[49m\n\u001b[0;32m    779\u001b[0m \u001b[38;5;28;01melif\u001b[39;00m \u001b[38;5;28misinstance\u001b[39m(data, ma\u001b[38;5;241m.\u001b[39mMaskedArray):\n\u001b[0;32m    780\u001b[0m     \u001b[38;5;28;01mfrom\u001b[39;00m\u001b[38;5;250m \u001b[39m\u001b[38;5;21;01mnumpy\u001b[39;00m\u001b[38;5;21;01m.\u001b[39;00m\u001b[38;5;21;01mma\u001b[39;00m\u001b[38;5;250m \u001b[39m\u001b[38;5;28;01mimport\u001b[39;00m mrecords\n",
      "File \u001b[1;32mc:\\Two_Kim_and_One_Lee\\.env311\\Lib\\site-packages\\pandas\\core\\internals\\construction.py:503\u001b[0m, in \u001b[0;36mdict_to_mgr\u001b[1;34m(data, index, columns, dtype, typ, copy)\u001b[0m\n\u001b[0;32m    499\u001b[0m     \u001b[38;5;28;01melse\u001b[39;00m:\n\u001b[0;32m    500\u001b[0m         \u001b[38;5;66;03m# dtype check to exclude e.g. range objects, scalars\u001b[39;00m\n\u001b[0;32m    501\u001b[0m         arrays \u001b[38;5;241m=\u001b[39m [x\u001b[38;5;241m.\u001b[39mcopy() \u001b[38;5;28;01mif\u001b[39;00m \u001b[38;5;28mhasattr\u001b[39m(x, \u001b[38;5;124m\"\u001b[39m\u001b[38;5;124mdtype\u001b[39m\u001b[38;5;124m\"\u001b[39m) \u001b[38;5;28;01melse\u001b[39;00m x \u001b[38;5;28;01mfor\u001b[39;00m x \u001b[38;5;129;01min\u001b[39;00m arrays]\n\u001b[1;32m--> 503\u001b[0m \u001b[38;5;28;01mreturn\u001b[39;00m \u001b[43marrays_to_mgr\u001b[49m\u001b[43m(\u001b[49m\u001b[43marrays\u001b[49m\u001b[43m,\u001b[49m\u001b[43m \u001b[49m\u001b[43mcolumns\u001b[49m\u001b[43m,\u001b[49m\u001b[43m \u001b[49m\u001b[43mindex\u001b[49m\u001b[43m,\u001b[49m\u001b[43m \u001b[49m\u001b[43mdtype\u001b[49m\u001b[38;5;241;43m=\u001b[39;49m\u001b[43mdtype\u001b[49m\u001b[43m,\u001b[49m\u001b[43m \u001b[49m\u001b[43mtyp\u001b[49m\u001b[38;5;241;43m=\u001b[39;49m\u001b[43mtyp\u001b[49m\u001b[43m,\u001b[49m\u001b[43m \u001b[49m\u001b[43mconsolidate\u001b[49m\u001b[38;5;241;43m=\u001b[39;49m\u001b[43mcopy\u001b[49m\u001b[43m)\u001b[49m\n",
      "File \u001b[1;32mc:\\Two_Kim_and_One_Lee\\.env311\\Lib\\site-packages\\pandas\\core\\internals\\construction.py:114\u001b[0m, in \u001b[0;36marrays_to_mgr\u001b[1;34m(arrays, columns, index, dtype, verify_integrity, typ, consolidate)\u001b[0m\n\u001b[0;32m    111\u001b[0m \u001b[38;5;28;01mif\u001b[39;00m verify_integrity:\n\u001b[0;32m    112\u001b[0m     \u001b[38;5;66;03m# figure out the index, if necessary\u001b[39;00m\n\u001b[0;32m    113\u001b[0m     \u001b[38;5;28;01mif\u001b[39;00m index \u001b[38;5;129;01mis\u001b[39;00m \u001b[38;5;28;01mNone\u001b[39;00m:\n\u001b[1;32m--> 114\u001b[0m         index \u001b[38;5;241m=\u001b[39m \u001b[43m_extract_index\u001b[49m\u001b[43m(\u001b[49m\u001b[43marrays\u001b[49m\u001b[43m)\u001b[49m\n\u001b[0;32m    115\u001b[0m     \u001b[38;5;28;01melse\u001b[39;00m:\n\u001b[0;32m    116\u001b[0m         index \u001b[38;5;241m=\u001b[39m ensure_index(index)\n",
      "File \u001b[1;32mc:\\Two_Kim_and_One_Lee\\.env311\\Lib\\site-packages\\pandas\\core\\internals\\construction.py:677\u001b[0m, in \u001b[0;36m_extract_index\u001b[1;34m(data)\u001b[0m\n\u001b[0;32m    675\u001b[0m lengths \u001b[38;5;241m=\u001b[39m \u001b[38;5;28mlist\u001b[39m(\u001b[38;5;28mset\u001b[39m(raw_lengths))\n\u001b[0;32m    676\u001b[0m \u001b[38;5;28;01mif\u001b[39;00m \u001b[38;5;28mlen\u001b[39m(lengths) \u001b[38;5;241m>\u001b[39m \u001b[38;5;241m1\u001b[39m:\n\u001b[1;32m--> 677\u001b[0m     \u001b[38;5;28;01mraise\u001b[39;00m \u001b[38;5;167;01mValueError\u001b[39;00m(\u001b[38;5;124m\"\u001b[39m\u001b[38;5;124mAll arrays must be of the same length\u001b[39m\u001b[38;5;124m\"\u001b[39m)\n\u001b[0;32m    679\u001b[0m \u001b[38;5;28;01mif\u001b[39;00m have_dicts:\n\u001b[0;32m    680\u001b[0m     \u001b[38;5;28;01mraise\u001b[39;00m \u001b[38;5;167;01mValueError\u001b[39;00m(\n\u001b[0;32m    681\u001b[0m         \u001b[38;5;124m\"\u001b[39m\u001b[38;5;124mMixing dicts with non-Series may lead to ambiguous ordering.\u001b[39m\u001b[38;5;124m\"\u001b[39m\n\u001b[0;32m    682\u001b[0m     )\n",
      "\u001b[1;31mValueError\u001b[0m: All arrays must be of the same length"
     ]
    }
   ],
   "source": [
    "collect_lyrics_in_list()"
   ]
  },
  {
   "cell_type": "code",
   "execution_count": 4,
   "metadata": {},
   "outputs": [],
   "source": [
    "# next 버튼 누를지 보는 함수 \n",
    "def is_in_sequence(num):\n",
    "    # num이 11 이상인지 확인\n",
    "    if num < 11:\n",
    "        return False\n",
    "    \n",
    "    # num이 11에서 시작하는 수열인지 확인\n",
    "    return (num - 11) % 10 == 0"
   ]
  },
  {
   "cell_type": "code",
   "execution_count": 5,
   "metadata": {},
   "outputs": [
    {
     "name": "stdout",
     "output_type": "stream",
     "text": [
      "========================= 1 페이지 데이터 곡 수집 =========================\n"
     ]
    },
    {
     "name": "stderr",
     "output_type": "stream",
     "text": [
      "Processing songs: 100%|██████████| 50/50 [01:37<00:00,  1.94s/it]\n"
     ]
    },
    {
     "name": "stdout",
     "output_type": "stream",
     "text": [
      "========================= 2 페이지 데이터 곡 수집 =========================\n"
     ]
    },
    {
     "name": "stderr",
     "output_type": "stream",
     "text": [
      "Processing songs: 100%|██████████| 50/50 [01:37<00:00,  1.95s/it]\n"
     ]
    },
    {
     "name": "stdout",
     "output_type": "stream",
     "text": [
      "========================= 3 페이지 데이터 곡 수집 =========================\n"
     ]
    },
    {
     "name": "stderr",
     "output_type": "stream",
     "text": [
      "Processing songs: 100%|██████████| 50/50 [01:35<00:00,  1.91s/it]\n"
     ]
    },
    {
     "name": "stdout",
     "output_type": "stream",
     "text": [
      "========================= 4 페이지 데이터 곡 수집 =========================\n"
     ]
    },
    {
     "name": "stderr",
     "output_type": "stream",
     "text": [
      "Processing songs: 100%|██████████| 50/50 [01:36<00:00,  1.94s/it]\n"
     ]
    },
    {
     "name": "stdout",
     "output_type": "stream",
     "text": [
      "========================= 5 페이지 데이터 곡 수집 =========================\n"
     ]
    },
    {
     "name": "stderr",
     "output_type": "stream",
     "text": [
      "Processing songs: 100%|██████████| 50/50 [01:35<00:00,  1.90s/it]\n"
     ]
    },
    {
     "name": "stdout",
     "output_type": "stream",
     "text": [
      "========================= 6 페이지 데이터 곡 수집 =========================\n"
     ]
    },
    {
     "name": "stderr",
     "output_type": "stream",
     "text": [
      "Processing songs:  26%|██▌       | 13/50 [00:36<01:45,  2.84s/it]"
     ]
    },
    {
     "name": "stdout",
     "output_type": "stream",
     "text": [
      "오류 발생 {13}\n"
     ]
    },
    {
     "name": "stderr",
     "output_type": "stream",
     "text": [
      "\n"
     ]
    },
    {
     "name": "stdout",
     "output_type": "stream",
     "text": [
      "다음 페이지가 없습니다: Message: \n",
      "Stacktrace:\n",
      "\tGetHandleVerifier [0x00007FF7AE2F80D5+2992373]\n",
      "\t(No symbol) [0x00007FF7ADF8BFD0]\n",
      "\t(No symbol) [0x00007FF7ADE2590A]\n",
      "\t(No symbol) [0x00007FF7ADE7926E]\n",
      "\t(No symbol) [0x00007FF7ADE7955C]\n",
      "\t(No symbol) [0x00007FF7ADEC27D7]\n",
      "\t(No symbol) [0x00007FF7ADE9F3AF]\n",
      "\t(No symbol) [0x00007FF7ADEBF584]\n",
      "\t(No symbol) [0x00007FF7ADE9F113]\n",
      "\t(No symbol) [0x00007FF7ADE6A918]\n",
      "\t(No symbol) [0x00007FF7ADE6BA81]\n",
      "\tGetHandleVerifier [0x00007FF7AE356A2D+3379789]\n",
      "\tGetHandleVerifier [0x00007FF7AE36C32D+3468109]\n",
      "\tGetHandleVerifier [0x00007FF7AE360043+3418211]\n",
      "\tGetHandleVerifier [0x00007FF7AE0EC78B+847787]\n",
      "\t(No symbol) [0x00007FF7ADF9757F]\n",
      "\t(No symbol) [0x00007FF7ADF92FC4]\n",
      "\t(No symbol) [0x00007FF7ADF9315D]\n",
      "\t(No symbol) [0x00007FF7ADF82979]\n",
      "\tBaseThreadInitThunk [0x00007FFE6775259D+29]\n",
      "\tRtlUserThreadStart [0x00007FFE6996AF38+40]\n",
      "\n"
     ]
    }
   ],
   "source": [
    "#Xpath : //*[@id=\"pageObjNavgation\"]/div/span/a[1]\n",
    "#Xpath : //*[@id=\"pageObjNavgation\"]/div/a\n",
    "\n",
    "# 1. 곡 수집 -> 함수로 실행 \n",
    "# 2. 50곡 완료 시 next page이동 (10n번째 -> next버튼)\n",
    "columns = ['title', 'artist', 'lyrics', 'likes']\n",
    "merge_songs = pd.DataFrame(columns=columns)\n",
    "\n",
    "idx = 0\n",
    "while True:\n",
    "    # 다음 페이지로 이동\n",
    "    try:\n",
    "        idx += 1 \n",
    "        print(\"=\"*25,idx,\"페이지 데이터 곡 수집\",\"=\"*25)\n",
    "        # 곡 정보 가져오기\n",
    "        curr_songs = collect_lyrics_in_list()\n",
    "        \n",
    "        merge_songs = pd.concat([merge_songs, curr_songs], ignore_index = True)\n",
    "\n",
    "        if is_in_sequence(idx): # \n",
    "            # 다음 페이지로 이동 (NEXT 버튼 클릭)\n",
    "            print(f\">>>>>>>>>>>>>>>>{idx} 페이지로 다음 버튼 클릭 합니다>>>>>>>>>>>>>>>>\")\n",
    "            next_button = WebDriverWait(driver, 10).until(\n",
    "                EC.element_to_be_clickable((By.CSS_SELECTOR, 'a.next'))\n",
    "            )\n",
    "            next_button.click()\n",
    "        else:\n",
    "            next_button = WebDriverWait(driver, 10).until(\n",
    "                EC.element_to_be_clickable((By.XPATH, f'//*[@id=\"pageObjNavgation\"]/div/span/a[{idx}]'))  # 다음 페이지 버튼의 XPath\n",
    "            )\n",
    "            next_button.click()\n",
    "        \n",
    "    except Exception as e:\n",
    "        print(\"다음 페이지가 없습니다:\", e)\n",
    "        break  # 더 이상 페이지가 없으면 반복 종료\n",
    "\n"
   ]
  },
  {
   "cell_type": "code",
   "execution_count": 7,
   "metadata": {},
   "outputs": [
    {
     "data": {
      "text/html": [
       "<div>\n",
       "<style scoped>\n",
       "    .dataframe tbody tr th:only-of-type {\n",
       "        vertical-align: middle;\n",
       "    }\n",
       "\n",
       "    .dataframe tbody tr th {\n",
       "        vertical-align: top;\n",
       "    }\n",
       "\n",
       "    .dataframe thead th {\n",
       "        text-align: right;\n",
       "    }\n",
       "</style>\n",
       "<table border=\"1\" class=\"dataframe\">\n",
       "  <thead>\n",
       "    <tr style=\"text-align: right;\">\n",
       "      <th></th>\n",
       "      <th>title</th>\n",
       "      <th>artist</th>\n",
       "      <th>lyrics</th>\n",
       "      <th>likes</th>\n",
       "    </tr>\n",
       "  </thead>\n",
       "  <tbody>\n",
       "    <tr>\n",
       "      <th>0</th>\n",
       "      <td>나는 반딧불</td>\n",
       "      <td>&lt;selenium.webdriver.remote.webelement.WebEleme...</td>\n",
       "      <td>나는 내가 빛나는 별인 줄 알았어요\\n한 번도 의심한 적 없었죠\\n몰랐어요 난 내가...</td>\n",
       "      <td>84,895</td>\n",
       "    </tr>\n",
       "    <tr>\n",
       "      <th>1</th>\n",
       "      <td>내게 사랑이 뭐냐고 물어본다면</td>\n",
       "      <td>&lt;selenium.webdriver.remote.webelement.WebEleme...</td>\n",
       "      <td>뜨겁게 사랑했던\\n계절을 지나\\n처음과는 조금은 달라진\\n우리 모습을\\n걱정 하진 ...</td>\n",
       "      <td>49,445</td>\n",
       "    </tr>\n",
       "    <tr>\n",
       "      <th>2</th>\n",
       "      <td>소나기</td>\n",
       "      <td>&lt;selenium.webdriver.remote.webelement.WebEleme...</td>\n",
       "      <td>그치지 않기를 바랬죠\\n처음 그대 내게로 오던 그날에\\n잠시 동안 적시는\\n그런 비...</td>\n",
       "      <td>169,458</td>\n",
       "    </tr>\n",
       "    <tr>\n",
       "      <th>3</th>\n",
       "      <td>천상연</td>\n",
       "      <td>&lt;selenium.webdriver.remote.webelement.WebEleme...</td>\n",
       "      <td>아니길 바랬었어\\n꿈이길 기도했지\\n너 없는 가슴으로 살아가야 하는 건\\n내게는 너...</td>\n",
       "      <td>114,764</td>\n",
       "    </tr>\n",
       "    <tr>\n",
       "      <th>4</th>\n",
       "      <td>슬픈 초대장</td>\n",
       "      <td>&lt;selenium.webdriver.remote.webelement.WebEleme...</td>\n",
       "      <td>내 야윈 손위로 온 초대장 위에\\n널 데려간다는 그와 네 이름\\n오래전 헤어지던 날...</td>\n",
       "      <td>61,072</td>\n",
       "    </tr>\n",
       "    <tr>\n",
       "      <th>...</th>\n",
       "      <td>...</td>\n",
       "      <td>...</td>\n",
       "      <td>...</td>\n",
       "      <td>...</td>\n",
       "    </tr>\n",
       "    <tr>\n",
       "      <th>258</th>\n",
       "      <td>위로</td>\n",
       "      <td>&lt;selenium.webdriver.remote.webelement.WebEleme...</td>\n",
       "      <td>세상과 다른 눈으로 나를 사랑하는\\n세상과 다른 맘으로 나를 사랑하는\\n그런 그대가...</td>\n",
       "      <td>99,229</td>\n",
       "    </tr>\n",
       "    <tr>\n",
       "      <th>259</th>\n",
       "      <td>끝</td>\n",
       "      <td>&lt;selenium.webdriver.remote.webelement.WebEleme...</td>\n",
       "      <td>한참을 아무 말도 없었다\\n어색한 공기만 우릴 감싸고 있다\\n너는 고개를 돌린 채로...</td>\n",
       "      <td>166,015</td>\n",
       "    </tr>\n",
       "    <tr>\n",
       "      <th>260</th>\n",
       "      <td>내 생에 아름다운</td>\n",
       "      <td>&lt;selenium.webdriver.remote.webelement.WebEleme...</td>\n",
       "      <td>Don't walk away I'm falling down\\nDon't walk a...</td>\n",
       "      <td>175,419</td>\n",
       "    </tr>\n",
       "    <tr>\n",
       "      <th>261</th>\n",
       "      <td>너는 어땠을까</td>\n",
       "      <td>&lt;selenium.webdriver.remote.webelement.WebEleme...</td>\n",
       "      <td>언제부터인지 습관처럼 연락하고\\n마주한 시간이 더는 설레질 않아\\n하루 종일 반복되...</td>\n",
       "      <td>116,794</td>\n",
       "    </tr>\n",
       "    <tr>\n",
       "      <th>262</th>\n",
       "      <td>잠이 오질 않네요</td>\n",
       "      <td>&lt;selenium.webdriver.remote.webelement.WebEleme...</td>\n",
       "      <td>당신은 날 설레게 만들어\\n조용한 내 마음 자꾸만 춤추게 해\\n얼마나 얼마나 날 떨...</td>\n",
       "      <td>172,565</td>\n",
       "    </tr>\n",
       "  </tbody>\n",
       "</table>\n",
       "<p>263 rows × 4 columns</p>\n",
       "</div>"
      ],
      "text/plain": [
       "                title                                             artist  \\\n",
       "0              나는 반딧불  <selenium.webdriver.remote.webelement.WebEleme...   \n",
       "1    내게 사랑이 뭐냐고 물어본다면  <selenium.webdriver.remote.webelement.WebEleme...   \n",
       "2                 소나기  <selenium.webdriver.remote.webelement.WebEleme...   \n",
       "3                 천상연  <selenium.webdriver.remote.webelement.WebEleme...   \n",
       "4              슬픈 초대장  <selenium.webdriver.remote.webelement.WebEleme...   \n",
       "..                ...                                                ...   \n",
       "258                위로  <selenium.webdriver.remote.webelement.WebEleme...   \n",
       "259                 끝  <selenium.webdriver.remote.webelement.WebEleme...   \n",
       "260         내 생에 아름다운  <selenium.webdriver.remote.webelement.WebEleme...   \n",
       "261           너는 어땠을까  <selenium.webdriver.remote.webelement.WebEleme...   \n",
       "262         잠이 오질 않네요  <selenium.webdriver.remote.webelement.WebEleme...   \n",
       "\n",
       "                                                lyrics    likes  \n",
       "0    나는 내가 빛나는 별인 줄 알았어요\\n한 번도 의심한 적 없었죠\\n몰랐어요 난 내가...   84,895  \n",
       "1    뜨겁게 사랑했던\\n계절을 지나\\n처음과는 조금은 달라진\\n우리 모습을\\n걱정 하진 ...   49,445  \n",
       "2    그치지 않기를 바랬죠\\n처음 그대 내게로 오던 그날에\\n잠시 동안 적시는\\n그런 비...  169,458  \n",
       "3    아니길 바랬었어\\n꿈이길 기도했지\\n너 없는 가슴으로 살아가야 하는 건\\n내게는 너...  114,764  \n",
       "4    내 야윈 손위로 온 초대장 위에\\n널 데려간다는 그와 네 이름\\n오래전 헤어지던 날...   61,072  \n",
       "..                                                 ...      ...  \n",
       "258  세상과 다른 눈으로 나를 사랑하는\\n세상과 다른 맘으로 나를 사랑하는\\n그런 그대가...   99,229  \n",
       "259  한참을 아무 말도 없었다\\n어색한 공기만 우릴 감싸고 있다\\n너는 고개를 돌린 채로...  166,015  \n",
       "260  Don't walk away I'm falling down\\nDon't walk a...  175,419  \n",
       "261  언제부터인지 습관처럼 연락하고\\n마주한 시간이 더는 설레질 않아\\n하루 종일 반복되...  116,794  \n",
       "262  당신은 날 설레게 만들어\\n조용한 내 마음 자꾸만 춤추게 해\\n얼마나 얼마나 날 떨...  172,565  \n",
       "\n",
       "[263 rows x 4 columns]"
      ]
     },
     "execution_count": 7,
     "metadata": {},
     "output_type": "execute_result"
    }
   ],
   "source": [
    "merge_songs"
   ]
  },
  {
   "cell_type": "code",
   "execution_count": null,
   "metadata": {},
   "outputs": [],
   "source": [
    "import datetime\n",
    "\n",
    "#데이터 프레임 저장\n",
    "now = datetime.datetime.now()\n",
    "address = '../01_data_모음/'\n",
    "\n",
    "# os.chdir(\"./data\")\n",
    "# song_data.to_csv(address, index=False, encoding='utf-8-sig')\n",
    "merge_songs.to_csv(path_or_buf=address+'melon.csv')\n",
    "# song_data.to_csv('melon{}_{}.csv'.format(search,now.strftime('%Y%m%d_%H시%M분%S초')),encoding='utf-8-sig',index=False)"
   ]
  },
  {
   "cell_type": "markdown",
   "metadata": {},
   "source": [
    "### 3) 곡정보 담기"
   ]
  },
  {
   "cell_type": "code",
   "execution_count": null,
   "metadata": {},
   "outputs": [],
   "source": [
    "# 멜론 차트 list 만들기\n",
    "title = []\n",
    "artist = []\n",
    "lyrics = []\n",
    "likes = []\n",
    "\n",
    "# 기본 설정 값\n",
    "table_all = driver.find_element(By.XPATH, '//*[@id=\"songList\"]')\n",
    "list_all = driver.find_elements(By.CSS_SELECTOR, \"tbody>tr\")\n",
    "\n",
    "# 수집 루틴\n",
    "for idx in range(0, len(list_all)):\n",
    "    time.sleep(1)\n",
    "    try :\n",
    "        # 스크롤 동적으로 이동 : 인덱스 기반 스크롤\n",
    "        driver.execute_script(f\"window.scrollTo(0, {idx * 85});\")\n",
    "\n",
    "        # 특정 요소가 로드될 때까지 대기\n",
    "        WebDriverWait(driver, 10).until(EC.visibility_of_element_located((By.CSS_SELECTOR, \"tbody>tr\")))\n",
    "        \n",
    "        # 위치 찾아서 진입\n",
    "        table_all = driver.find_element(By.XPATH, '//*[@id=\"songList\"]')\n",
    "        list_all = driver.find_elements(By.CSS_SELECTOR, \"tbody>tr\")\n",
    "\n",
    "        # 현재 곡 클릭\n",
    "        list_click = list_all[idx].find_elements(By.CSS_SELECTOR, \"td\")\n",
    "        list_click[3].click()\n",
    "        song_click = WebDriverWait(driver, 10).until(EC.visibility_of_element_located((By.CSS_SELECTOR, f\"#frm > div > table > tbody > tr:nth-child({int(idx+1)}) > td:nth-child(4) > div > a:not(.section_hitsong)\")))\n",
    "        song_click.click()\n",
    "\n",
    "        # 제목 추가\n",
    "        title_text = WebDriverWait(driver, 10).until(EC.visibility_of_element_located((By.CSS_SELECTOR, \".song_name\"))).text\n",
    "        title.append(title_text)\n",
    "\n",
    "        # 아티스트 이름 추가\n",
    "        artist_name = WebDriverWait(driver, 10).until(EC.visibility_of_element_located((By.CSS_SELECTOR, \".artist_name\")))\n",
    "        # artist_row = artist_info.find_element(By.CSS_SELECTOR, \"tbody>tr>td\")\n",
    "        # artist_name = artist_row.find_element(By.CSS_SELECTOR, \"a\").text\n",
    "        artist.append(artist_name)\n",
    "\n",
    "        # 가사 텍스트 추가\n",
    "        lyrics_text = WebDriverWait(driver, 10).until(EC.visibility_of_element_located((By.CSS_SELECTOR, \".lyric\"))).text\n",
    "        lyrics.append(lyrics_text)\n",
    "\n",
    "        # 좋아요 개수 추가\n",
    "        likes_text = WebDriverWait(driver, 10).until(EC.visibility_of_element_located((By.CSS_SELECTOR, \".cnt\"))).text\n",
    "        likes.append(likes_text)\n",
    "        \n",
    "        # 중간 확인\n",
    "        # if list(range(1, 5000+1, 100) in len(title) :\n",
    "        #         print(len(title))\n",
    "        # else :\n",
    "        #     continue\n",
    "\n",
    "        # 뒤로가기\n",
    "        driver.back()\n",
    "        WebDriverWait(driver, 10).until(EC.visibility_of_element_located((By.XPATH, '//*[@id=\"songList\"]')))\n",
    "    except :\n",
    "        print(f\"오류 발생\", {idx})        \n",
    "        break"
   ]
  },
  {
   "cell_type": "markdown",
   "metadata": {},
   "source": [
    "### 4) 수집량 확인"
   ]
  },
  {
   "cell_type": "code",
   "execution_count": null,
   "metadata": {},
   "outputs": [],
   "source": [
    "print(len(title))\n",
    "print(len(artist))\n",
    "print(len(lyrics))\n",
    "print(len(likes))"
   ]
  },
  {
   "cell_type": "markdown",
   "metadata": {},
   "source": [
    "## 2. 파일 내보내기"
   ]
  },
  {
   "cell_type": "markdown",
   "metadata": {},
   "source": [
    "### 1) 수집 데이터 프레임화"
   ]
  },
  {
   "cell_type": "code",
   "execution_count": 40,
   "metadata": {},
   "outputs": [],
   "source": [
    "# 데이터 취합하기\n",
    "data = pd.DataFrame(\n",
    "    {\n",
    "        \"제목\" : title,\n",
    "        \"가수\" : artist,\n",
    "        \"가사\" : lyrics,\n",
    "        \"좋아요\" : likes\n",
    "    }\n",
    ")"
   ]
  },
  {
   "cell_type": "code",
   "execution_count": null,
   "metadata": {},
   "outputs": [],
   "source": [
    "# 데이터 확인하기\n",
    "data.head(10)"
   ]
  },
  {
   "cell_type": "markdown",
   "metadata": {},
   "source": [
    "### 2) 데이터 내보내기"
   ]
  },
  {
   "cell_type": "code",
   "execution_count": 43,
   "metadata": {},
   "outputs": [],
   "source": [
    "# 데이터 csv파일로 내보내기\n",
    "data.to_csv(r\"G:\\내 드라이브\\[Edu] wanted_poptenup\\01_프로젝트 모음\\25.01_프로젝트#2_'BE MY MUSE' 작사 공모전\\(Data)\\melon_한국대중음악_발라드(TOP50).csv\", index=True, encoding='utf-8')"
   ]
  }
 ],
 "metadata": {
  "kernelspec": {
   "display_name": ".env311",
   "language": "python",
   "name": "python3"
  },
  "language_info": {
   "codemirror_mode": {
    "name": "ipython",
    "version": 3
   },
   "file_extension": ".py",
   "mimetype": "text/x-python",
   "name": "python",
   "nbconvert_exporter": "python",
   "pygments_lexer": "ipython3",
   "version": "3.11.9"
  }
 },
 "nbformat": 4,
 "nbformat_minor": 2
}
